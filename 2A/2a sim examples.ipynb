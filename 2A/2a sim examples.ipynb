{
 "cells": [
  {
   "cell_type": "code",
   "execution_count": 1,
   "metadata": {},
   "outputs": [],
   "source": [
    "# for each pet\n",
    "alpha_1 = [0.00140647805322, 0.002084189759064954, 0.0008007393719957749, 0.0010406408980429198, 0.0013604107815131485]\n",
    "alpha_2 = [2.1474836474 * pow(10, 9), 2147483635.2952528, 2147483653.007195, 2147483676.4044113, 2147483646.823722]\n",
    "alpha_3 = [1.04191002084, 1.7495598940082078, -0.3768722076353776, -0.47073526893445033, -0.7776510324566942]\n",
    "alpha_4 = [3.33741248841, 1.4504797097401232, 4.058774350343964, 2.7569376659085965, 2.415721885984468]\n",
    "alpha_5 = [0.0341831178375, 0.00033069967929300477, 0.04027300210301911, 0.03620340345676056, 0.029251678581615127]\n",
    "alpha_6 = [5.58882151259, 9.878615735906964, 10.01104525180109, 8.982237990887667, 8.646331874215226]\n",
    "beta = [-22.828716926, 1.551311731338501, -26.52982532978058, -0.12039613723754883, -24.159748792648315]\n",
    "\n",
    "ap = [18, 5, 6, 1, 20]\n",
    "tp = [0.75, 3, 1, 1, 1]\n",
    "c_for_each_pet = [1750, 1500, 700, 800, 2800]"
   ]
  },
  {
   "cell_type": "code",
   "execution_count": 2,
   "metadata": {},
   "outputs": [],
   "source": [
    "def r(i,w,n,nc,a,t,c,co,p):\n",
    "  delta = 0.1\n",
    "  p = p - 1\n",
    "\n",
    "  return alpha_1[p] * (delta * i - c - co) + alpha_2[p] * (w - 1) - alpha_3[p] * nc + alpha_4[p] * (n - nc) + alpha_5[p] * (a - ap[p]) + alpha_6[p] * (t - tp[p]) + beta[p]"
   ]
  },
  {
   "cell_type": "code",
   "execution_count": 3,
   "metadata": {},
   "outputs": [],
   "source": [
    "# Examples\n",
    "examples = [\n",
    "    [150000, 1, 4, 1, 300, 2, 0],\n",
    "    [80000, 1, 3, 0, 200, 1, 1750],\n",
    "    [55000, 1, 3, 1, 180, 2, 0],\n",
    "    [120000, 0, 7, 2, 350, 3, 0],\n",
    "    [90000, 1, 2, 0, 200, 4, 14000],\n",
    "    [40000, 1, 1, 0, 100, 2, 0],\n",
    "]"
   ]
  },
  {
   "cell_type": "code",
   "execution_count": 4,
   "metadata": {},
   "outputs": [
    {
     "name": "stdout",
     "output_type": "stream",
     "text": [
      "18.727 & 21.755 & 24.176 & 19.245 & 41.124 & \n",
      "-5.525 & 1.483 & -2.223 & -2.177 & 18.945 & \n",
      "-0.123 & 0.954 & 2.886 & 2.747 & 24.137 & \n",
      "-2147483616.46 & -2147483616.934 & -2147483606.325 & -2147483615.645 & -2147483621.625 & \n",
      "2.693 & -0.911 & 2.515 & 14.79 & 31.428 & \n",
      "-7.697 & -6.186 & 0.032 & -6.112 & 16.452 & \n"
     ]
    }
   ],
   "source": [
    "for example in range(6):\n",
    "  for pet in range(5):\n",
    "    i,w,n,nc,a,t,co = examples[example]\n",
    "    c = c_for_each_pet[pet]\n",
    "    p = pet\n",
    "    current_r = r(i,w,n,nc,a,t,c,co,p)\n",
    "    print(round(current_r, 3), end=\" & \")\n",
    "  print(\"\")"
   ]
  }
 ],
 "metadata": {
  "kernelspec": {
   "display_name": "Python 3",
   "language": "python",
   "name": "python3"
  },
  "language_info": {
   "codemirror_mode": {
    "name": "ipython",
    "version": 3
   },
   "file_extension": ".py",
   "mimetype": "text/x-python",
   "name": "python",
   "nbconvert_exporter": "python",
   "pygments_lexer": "ipython3",
   "version": "3.11.7"
  }
 },
 "nbformat": 4,
 "nbformat_minor": 2
}
