{
 "cells": [
  {
   "cell_type": "code",
   "execution_count": 51,
   "metadata": {},
   "outputs": [],
   "source": [
    "# for each pet\n",
    "alpha_1 = [0.00140647805322, 0.002084189759064954, 0.0008007393719957749, 0.0010406408980429198, 0.0013604107815131485]\n",
    "alpha_2 = [2.1474836474 * pow(10, 9), 2147483635.2952528, 2147483653.007195, 2147483676.4044113, 2147483646.823722]\n",
    "alpha_3 = [1.04191002084, 1.7495598940082078, -0.3768722076353776, -0.47073526893445033, -0.7776510324566942]\n",
    "alpha_4 = [3.33741248841, 1.4504797097401232, 4.058774350343964, 2.7569376659085965, 2.415721885984468]\n",
    "alpha_5 = [0.0341831178375, 0.00033069967929300477, 0.04027300210301911, 0.03620340345676056, 0.029251678581615127]\n",
    "alpha_6 = [5.58882151259, 9.878615735906964, 10.01104525180109, 8.982237990887667, 8.646331874215226]\n",
    "beta = [-22.828716926, 1.551311731338501, -26.52982532978058, -0.12039613723754883, -24.159748792648315]"
   ]
  },
  {
   "cell_type": "code",
   "execution_count": 52,
   "metadata": {},
   "outputs": [],
   "source": [
    "# for each pet\n",
    "ap = [18, 5, 6, 1, 1.5]\n",
    "tp = [0.75, 3, 1, 1, 1]"
   ]
  },
  {
   "cell_type": "code",
   "execution_count": 53,
   "metadata": {},
   "outputs": [],
   "source": [
    "# for each country and pet\n",
    "costs = [\n",
    "  [1750, 1500, 700, 800, 3200], # australia\n",
    "  [21360, 25000, 27360, 7200, 9600],\n",
    "  [1149, 2000, 1650, 675, 875]\n",
    "]"
   ]
  },
  {
   "cell_type": "code",
   "execution_count": 54,
   "metadata": {},
   "outputs": [],
   "source": [
    "delta_i = 0.04\n",
    "delta_g = 0.05"
   ]
  },
  {
   "cell_type": "code",
   "execution_count": 55,
   "metadata": {},
   "outputs": [],
   "source": [
    "# for each country\n",
    "incomes = [74580, 382800, 93800]\n",
    "n_means = [2.51, 4.44, 2.4]\n",
    "nc_means = [0.08310634996, 0.1455026455, 0.1163151441]\n",
    "a_means = [234.30147, 47, 248]\n",
    "t_means = [5.3 / 2, 2.53 / 2, 4.46 / 2]\n",
    "c_other_pets = [425, 27508, 3028]\n",
    "total_households = [131434000, 302400000, 10874835]\n"
   ]
  },
  {
   "cell_type": "code",
   "execution_count": 56,
   "metadata": {},
   "outputs": [],
   "source": [
    "def little_r(i,w,n,nc,a,t,c,co,p):\n",
    "  delta = 0.1\n",
    "  p = p - 1\n",
    "\n",
    "  return alpha_1[p] * (delta * i - c - co) + alpha_2[p] * (w - 1) - alpha_3[p] * nc + alpha_4[p] * (n - nc) + alpha_5[p] * (a - ap[p]) + alpha_6[p] * (t - tp[p]) + beta[p]"
   ]
  },
  {
   "cell_type": "code",
   "execution_count": 57,
   "metadata": {},
   "outputs": [],
   "source": [
    "def big_r(i_init, w, n, nc, a, t, c_init, co_init, p, k):\n",
    "  return little_r(i_init + delta_g*i_init*k, w, n, nc, a, t, c_init + delta_i*c_init*k, co_init + delta_i*co_init*k, p)"
   ]
  },
  {
   "cell_type": "code",
   "execution_count": 58,
   "metadata": {},
   "outputs": [],
   "source": [
    "import matplotlib.pyplot as plt\n",
    "import numpy as np"
   ]
  },
  {
   "cell_type": "code",
   "execution_count": 59,
   "metadata": {},
   "outputs": [],
   "source": [
    "num_samples = 100000"
   ]
  },
  {
   "cell_type": "code",
   "execution_count": 60,
   "metadata": {},
   "outputs": [
    {
     "name": "stdout",
     "output_type": "stream",
     "text": [
      "COUNTRY: 1\n",
      "Pet, 5y, 10y, 15y\n",
      "1 & 103671196 & 108497452 & 112439158 & \\\\\n",
      "2 & 116426865 & 120124104 & 122903933 & \\\\\n",
      "3 & 113336852 & 118245912 & 121898463 & \\\\\n",
      "4 & 106177642 & 109138850 & 111830618 & \\\\\n",
      "5 & 131357768 & 131377483 & 131386683 & \\\\\n",
      "---\n",
      "COUNTRY: 2\n",
      "Pet, 5y, 10y, 15y\n",
      "1 & 69201216 & 77864976 & 85164912 & \\\\\n",
      "2 & 65750832 & 72857232 & 78587712 & \\\\\n",
      "3 & 52164000 & 59200848 & 64843632 & \\\\\n",
      "4 & 156727872 & 167550768 & 176389920 & \\\\\n",
      "5 & 252655200 & 250698672 & 248835888 & \\\\\n",
      "---\n",
      "COUNTRY: 3\n",
      "Pet, 5y, 10y, 15y\n",
      "1 & 7830859 & 8308156 & 8699541 & \\\\\n",
      "2 & 8583289 & 8973478 & 9273080 & \\\\\n",
      "3 & 7822051 & 8332189 & 8745977 & \\\\\n",
      "4 & 7990502 & 8290430 & 8571762 & \\\\\n",
      "5 & 10872442 & 10872660 & 10873421 & \\\\\n",
      "---\n"
     ]
    }
   ],
   "source": [
    "for country in range(3):\n",
    "  print(\"COUNTRY:\", country + 1)\n",
    "  print(\"Pet, 5y, 10y, 15y\")\n",
    "  for pet in range(5):\n",
    "    print(pet + 1, end=\" & \")\n",
    "    r_above_zero = 0\n",
    "    \n",
    "    income_data = np.random.lognormal(mean=np.log(incomes[country]), sigma=0.4, size=num_samples)\n",
    "    household_size = np.random.poisson(n_means[country], num_samples)\n",
    "    children_size = np.random.poisson(nc_means[country], num_samples)\n",
    "    floor_size = np.random.poisson(a_means[country], num_samples)\n",
    "    time_dist = np.random.poisson(t_means[country], num_samples)\n",
    "    c_o_dist = np.random.poisson(c_other_pets[country], num_samples)\n",
    "    \n",
    "    for k_val in [5, 10, 15]:\n",
    "      r_above_zero = 0\n",
    "      for sample in range(num_samples):\n",
    "        current_r = big_r(income_data[sample], 1, household_size[sample], children_size[sample], floor_size[sample], time_dist[sample], costs[country][pet], c_o_dist[sample], pet, k_val)\n",
    "        if current_r > 0:\n",
    "          r_above_zero += 1\n",
    "      print(r_above_zero * total_households[country] // num_samples, end=\" & \")\n",
    "    # newline for every pet\n",
    "    print(\"\\\\\\\\\")\n",
    "  print(\"---\") #separator for every country\n",
    "\n"
   ]
  }
 ],
 "metadata": {
  "kernelspec": {
   "display_name": "Python 3",
   "language": "python",
   "name": "python3"
  },
  "language_info": {
   "codemirror_mode": {
    "name": "ipython",
    "version": 3
   },
   "file_extension": ".py",
   "mimetype": "text/x-python",
   "name": "python",
   "nbconvert_exporter": "python",
   "pygments_lexer": "ipython3",
   "version": "3.11.7"
  }
 },
 "nbformat": 4,
 "nbformat_minor": 2
}
